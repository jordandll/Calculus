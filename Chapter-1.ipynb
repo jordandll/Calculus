{
 "cells": [
  {
   "cell_type": "markdown",
   "id": "922b8978-3e32-489b-a90e-32b16387e5bd",
   "metadata": {},
   "source": [
    "# Chapter 1\n",
    "\n",
    "## Problems  \n",
    "\n",
    "#### Problem 1\n",
    "\n",
    "**a)**  rational   **b)** integer\n",
    "\n",
    "**c)**  integer  **d)** rational\n",
    "\n",
    "**e)**  integer  **f)**  irrational\n",
    "\n",
    "**g)** integer **h)** irrational\n",
    "\n",
    "**i)** rational **j)**  rational"
   ]
  },
  {
   "cell_type": "markdown",
   "id": "f29bf27f-13d0-4c6f-8263-406e862b5bdb",
   "metadata": {},
   "source": [
    "#### Problem 2  \n",
    "\n",
    "Every integer is either even or odd. The even integers are\n",
    "those that are divisible by $2$, so $n$ is even if and only if\n",
    "it has the form $n = 2k$ for some integer $k$. The odd inte\n",
    "gers are those that have the form $n = 2k + 1$ for some\n",
    "integer $k$."
   ]
  },
  {
   "cell_type": "markdown",
   "id": "9116e741-ced7-4830-a141-41cf5d2597db",
   "metadata": {},
   "source": [
    "\\begin{equation}\\tag{P1}\n",
    "    n \\;\\text{is even}\\quad\\iff\\quad n = 2k \\quad\\quad\\text{where }\\,k\\in\\mathbb{Z}\n",
    "\\end{equation}"
   ]
  },
  {
   "cell_type": "markdown",
   "id": "542f7524-262f-4c27-94cd-4674feeac677",
   "metadata": {},
   "source": [
    "\\begin{equation}\\tag{P2}\n",
    "    n \\;\\text{is odd}\\quad\\iff\\quad n = 2k + 1 \\quad\\quad\\text{where }\\,k\\in\\mathbb{Z}\n",
    "\\end{equation}"
   ]
  },
  {
   "cell_type": "markdown",
   "id": "8f467182-c602-4a06-910c-e280a06e8cc9",
   "metadata": {},
   "source": [
    "**a)**  Via (P1),  \n",
    "\n",
    "$$ n\\;\\text{is even}\\quad\\iff\\quad n^2 = 4k^2\\quad\\quad\\text{where }\\,k\\in\\mathbb{Z}$$"
   ]
  },
  {
   "cell_type": "markdown",
   "id": "9c9e0217-5793-41b5-b897-76689c00ede3",
   "metadata": {},
   "source": [
    "$$ 4k^2\\;\\text{is even}\\quad\\iff\\quad 4k^2 = 2\\cdot 2k^2\\quad\\quad\\text{where }\\, 2k^2\\in\\mathbb{Z}$$"
   ]
  },
  {
   "cell_type": "markdown",
   "id": "5632732c-c4b4-415b-9c4a-a2096627d80a",
   "metadata": {},
   "source": [
    "Via the above and the law of distributed middle, we have our proposition.  Q.E.D."
   ]
  },
  {
   "cell_type": "markdown",
   "id": "cd688946-d3d0-43c6-a73a-29a9825b6081",
   "metadata": {},
   "source": [
    "**b)**  Via (P2),  \n",
    "\n",
    "\\begin{equation}\\tag{P3}\n",
    "    n\\;\\text{is odd}\\quad\\iff\\quad n^2 = 4k^2 + 4k + 1 \\quad\\quad\\text{where }\\,k\\in\\mathbb{Z}\n",
    "\\end{equation}"
   ]
  },
  {
   "cell_type": "markdown",
   "id": "9dd857c5-592c-45ab-ac65-d5396b060308",
   "metadata": {},
   "source": [
    "Via the fact that $4k^2 + 4k$ is even and the fact that an even number plus one is odd,  \n",
    "\n",
    "$$ n^2 = 4k^2 + 4k + 1\\quad\\quad\\text{where }\\,k\\in\\mathbb{Z}\\quad\\implies\\quad n^2\\;\\text{is odd}$$"
   ]
  },
  {
   "cell_type": "markdown",
   "id": "015e146c-00c6-41da-856b-e6be27c9d542",
   "metadata": {},
   "source": [
    "Finally, via the above, premise (P3) and the law of distributed middle we have our proposition.  Q.E.D."
   ]
  },
  {
   "cell_type": "markdown",
   "id": "9a1edbb6-3427-4ade-ae8e-e31b713a6d77",
   "metadata": {},
   "source": [
    "#### Problems 3-12\n",
    "\n",
    "\n",
    "$$ \\mathbf{3.}\\;|7-18| = 18-7 = 11 \\quad\\quad \\mathbf{4.}\\;|7| - |-18| = 7 - 18 = -11$$"
   ]
  },
  {
   "cell_type": "markdown",
   "id": "524b58d4-3ceb-4472-99e9-215f6ce61a70",
   "metadata": {},
   "source": [
    "$$ \\mathbf{5.}\\;|\\pi - 3| = \\pi-3 \\quad\\quad \\mathbf{6.}\\;|3-\\pi| = \\pi-3$$"
   ]
  },
  {
   "cell_type": "markdown",
   "id": "0e3f134b-1b8a-4baa-b2c4-3e493732d923",
   "metadata": {},
   "source": [
    "$$ \\mathbf{7.}\\;|x-5|_{\\vert x < 5} = 5-x\\quad\\quad \\mathbf{8.}\\; x-5$$"
   ]
  },
  {
   "cell_type": "markdown",
   "id": "e5f218ee-71a1-4e5b-b458-8704e21200b4",
   "metadata": {},
   "source": [
    "$$ \\mathbf{9.}\\;x^2+10\\quad\\quad \\mathbf{10.}\\;1\\quad\\quad\\mathbf{11.}\\;3x^2-1 $$"
   ]
  },
  {
   "cell_type": "markdown",
   "id": "99a6a7dc-d6f0-45fd-93b3-56bed45e4c3e",
   "metadata": {},
   "source": [
    "$$ \\mathbf{12.}\\; 10-\\sqrt{10}$$"
   ]
  },
  {
   "cell_type": "markdown",
   "id": "3015bfc4-24c8-418e-9f93-b2c3897d99ba",
   "metadata": {},
   "source": [
    "#### Problem 13  \n",
    "\n",
    "**a)**  $$ x(x-1)>0$$"
   ]
  },
  {
   "cell_type": "markdown",
   "id": "94554741-42bd-48ca-bf61-3a979ed12e45",
   "metadata": {},
   "source": [
    "The polynomial has roots at $0$ and $1$ and the curve that it gives is concave.  Therefore, the inequality is satisfied by  \n",
    "\n",
    "$$ x\\in (-\\infty,0)\\cup (1,\\infty)$$"
   ]
  },
  {
   "cell_type": "markdown",
   "id": "9fa9c74b-1ae5-4087-9634-39268625ca4f",
   "metadata": {},
   "source": [
    "**b)**  $$(x-1)(x+2) < 0$$"
   ]
  },
  {
   "cell_type": "markdown",
   "id": "531bb99b-4561-45a4-9fb6-8d0f7ae19ec5",
   "metadata": {},
   "source": [
    "The polynomial is negative in between it's roots, which are $1$ and $-2$.  Therefore,  \n",
    "\n",
    "$$ x\\in(-2,1)$$"
   ]
  },
  {
   "cell_type": "markdown",
   "id": "4b51bcb5-ec0c-448c-8432-1ed04fb558e7",
   "metadata": {},
   "source": [
    "**c)**  The solution is of the form:  \n",
    "\n",
    "$$ x\\in(-\\infty, x_1)\\cup(x_2,\\infty)$$"
   ]
  },
  {
   "cell_type": "markdown",
   "id": "90aa147d-0435-4ae1-be51-22cbae9616af",
   "metadata": {},
   "source": [
    "where $x_1$ is the smallest root of the polynomial and $x_2$ is the largest."
   ]
  },
  {
   "cell_type": "markdown",
   "id": "a88d1fcb-c719-479d-9828-69799107d348",
   "metadata": {},
   "source": [
    "$$ x = \\frac{-4\\pm\\sqrt{16+4\\cdot21}}{2}$$"
   ]
  },
  {
   "cell_type": "markdown",
   "id": "0f6929ef-c48e-415a-b386-d12ff4158573",
   "metadata": {},
   "source": [
    "$$ = -2\\pm\\sqrt{4+21} = -2\\pm 5$$"
   ]
  },
  {
   "cell_type": "markdown",
   "id": "acbd6a19-721a-4e1b-b96e-a68838ad9041",
   "metadata": {},
   "source": [
    "$$ x_1 = -7 \\quad\\quad\\text{and}\\quad\\quad x_2 = 3$$"
   ]
  },
  {
   "cell_type": "markdown",
   "id": "804b6918-1fbd-4b1f-8e31-217bbbce225b",
   "metadata": {},
   "source": [
    "**d)**  $$ x\\in(x_1,x_2) = \\{x \\in\\mathbb{R} \\;:\\; x_1< x<x_2\\}$$"
   ]
  },
  {
   "cell_type": "markdown",
   "id": "debbad0b-abfe-4346-abf8-1909ba32d96e",
   "metadata": {},
   "source": [
    "$$ x = \\frac{-1\\pm\\sqrt{1+24}}{4} = \\frac{-1\\pm 5}{4}$$"
   ]
  },
  {
   "cell_type": "markdown",
   "id": "3c0d4262-3204-4e9e-8d88-4d687df76dc3",
   "metadata": {},
   "source": [
    "$$ x_1 = -\\frac{3}{2}\\quad\\quad\\text{and}\\quad\\quad x_2 = 1$$"
   ]
  },
  {
   "cell_type": "markdown",
   "id": "f5ae3ae0-561a-4560-94d6-89b5d4cb5d07",
   "metadata": {},
   "source": [
    "**e)**  \n",
    "\n",
    "$$ x \\in (x_1,x_2)$$"
   ]
  },
  {
   "cell_type": "markdown",
   "id": "77ba34fc-e077-42fa-880d-3019ddaaa34d",
   "metadata": {},
   "source": [
    "$$ x = \\frac{-10\\pm\\sqrt{100 + 4\\cdot 24}}{8}$$"
   ]
  },
  {
   "attachments": {},
   "cell_type": "markdown",
   "id": "d3c1984d-4c68-4b50-ad61-5a672da71df7",
   "metadata": {},
   "source": [
    "$$ = \\frac{-10\\pm 2\\sqrt{25+24}}{8}= \\frac{-5\\pm 7}{4}$$"
   ]
  },
  {
   "cell_type": "markdown",
   "id": "4e5fe663-6d9b-4211-be4e-015d5298d664",
   "metadata": {},
   "source": [
    "$$x_1 = -3\\quad\\quad\\text{and}\\quad\\quad x_2 = \\frac{1}{2} $$"
   ]
  },
  {
   "cell_type": "markdown",
   "id": "c989e93c-879d-4c43-97fc-26c86aee3a88",
   "metadata": {},
   "source": [
    "**f)**  \n",
    "\n",
    "$$ x\\in (-\\infty,x_1)\\cup(x_2,\\infty)$$"
   ]
  },
  {
   "cell_type": "markdown",
   "id": "eef8fb7f-7f1a-4f4e-8c68-17e9911f26fe",
   "metadata": {},
   "source": [
    "$$ x = \\frac{-2\\pm\\sqrt{4 - 16}}{2}$$"
   ]
  },
  {
   "cell_type": "markdown",
   "id": "a1705cb3-ec5d-4050-af20-ca0b0d221c26",
   "metadata": {},
   "source": [
    "The polynomial has no (real valued) roots therefore the inequality holds true for all $x\\in\\mathbb{R}$."
   ]
  }
 ],
 "metadata": {
  "kernelspec": {
   "display_name": "Python 3 (ipykernel)",
   "language": "python",
   "name": "python3"
  },
  "language_info": {
   "codemirror_mode": {
    "name": "ipython",
    "version": 3
   },
   "file_extension": ".py",
   "mimetype": "text/x-python",
   "name": "python",
   "nbconvert_exporter": "python",
   "pygments_lexer": "ipython3",
   "version": "3.10.12"
  }
 },
 "nbformat": 4,
 "nbformat_minor": 5
}

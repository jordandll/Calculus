{
 "cells": [
  {
   "cell_type": "markdown",
   "id": "c691a99d-5627-4df8-9e91-1c52788ba6d4",
   "metadata": {},
   "source": [
    "# Derivatives\n",
    "\n",
    "In this notebook we will find the derivatives of certain functions.\n",
    "\n",
    "## Definition\n",
    "\n",
    "Let $y:=f(x)$.  The derivative of $f(x)$, often times denoted as $f'(x)$, is given by:  \n",
    "\n",
    "$$ f'(x) = \\frac{\\mathrm{d}y}{\\mathrm{d}x} = \\lim_{\\Delta x \\to 0} \\frac{f(x+\\Delta x) - f(x)}{\\Delta x}$$"
   ]
  },
  {
   "cell_type": "markdown",
   "id": "7d888e76-740c-4e6d-8fe9-f02d5a18bcf2",
   "metadata": {},
   "source": [
    "## Rules  \n",
    "\n",
    "Herein are some general rules or properties derivatives."
   ]
  },
  {
   "cell_type": "markdown",
   "id": "7b80c623-3150-4cfd-b596-269ccb27a2fd",
   "metadata": {},
   "source": [
    "### Addition Rule\n",
    "\n",
    "Let $f(x) := g(x) + h(x)$."
   ]
  },
  {
   "cell_type": "markdown",
   "id": "d301591e-9de7-470d-89c3-f29df1ac512d",
   "metadata": {},
   "source": [
    "**Proposition**:  $$ f'(x) = g'(x) + h'(x)$$"
   ]
  },
  {
   "cell_type": "markdown",
   "id": "4de441cf-f97b-4e52-a910-aed9f3a61b12",
   "metadata": {},
   "source": [
    "**Proof**:  \n",
    "\n",
    "$$ f'(x) = \\lim_{\\Delta x\\to 0}\\frac{g(x + \\Delta x) - g(x) + h(x+\\Delta x) - h(x)}{\\Delta x}$$"
   ]
  },
  {
   "cell_type": "markdown",
   "id": "8a244bb4-6647-41fe-baf7-269b5745d8cf",
   "metadata": {},
   "source": [
    "$$ = \\lim_{\\Delta x\\to 0}\\frac{g(x+\\Delta x) - g(x)}{\\Delta x} + \\lim_{\\Delta x\\to 0}\\frac{h(x+\\Delta x) - h(x)}{\\Delta x}$$"
   ]
  },
  {
   "cell_type": "markdown",
   "id": "1ea79d20-554a-4f8f-8e8d-d47c314b4789",
   "metadata": {},
   "source": [
    "$$ = g'(x) + h'(x)$$"
   ]
  },
  {
   "cell_type": "markdown",
   "id": "81b2123a-eeb6-4442-af3d-1efafa837bb6",
   "metadata": {},
   "source": [
    "Q.E.D."
   ]
  },
  {
   "cell_type": "markdown",
   "id": "88621d41-6221-4f4b-acb4-d6a46882023d",
   "metadata": {},
   "source": [
    "### Multiplication Rule  \n",
    "\n",
    "Let $f(x):= g(x)\\cdot h(x)$."
   ]
  },
  {
   "cell_type": "markdown",
   "id": "9096bc0b-3f43-4762-9edf-505e7da2f303",
   "metadata": {},
   "source": [
    "**Proposition**:  \n",
    "\n",
    "$$ f'(x) = g'(x)\\cdot h(x) + g(x)\\cdot h'(x)$$"
   ]
  },
  {
   "cell_type": "markdown",
   "id": "a082d52f-ea5a-48ef-ac0f-5cd5e66913cb",
   "metadata": {},
   "source": [
    "**Proof**:  \n",
    "\n",
    "$$ f'(x) = \\lim_{\\Delta x \\to 0}\\frac{g(x+\\Delta x)\\cdot h(x+\\Delta x) - g(x)\\cdot h(x)}{\\Delta x}$$"
   ]
  },
  {
   "cell_type": "markdown",
   "id": "bec69933-3deb-4e2b-9514-dea66972a24c",
   "metadata": {},
   "source": [
    "$$ \\big(g(x+\\Delta x) + g(x)\\big)\\big(h(x+\\Delta x) - h(x)\\big)$$"
   ]
  },
  {
   "cell_type": "markdown",
   "id": "8bfce883-d923-4f60-b771-bd0014d53dbb",
   "metadata": {},
   "source": [
    "$$ = g(x+\\Delta x)\\cdot h(x+\\Delta ) - h(x)\\cdot g(x+\\Delta x) + g(x)\\cdot h(x+\\Delta x) - g(x)\\cdot h(x)$$"
   ]
  },
  {
   "cell_type": "markdown",
   "id": "9d5c98d4-fd83-4961-8013-53d22926eaaf",
   "metadata": {},
   "source": [
    "The numerator is thus,  \n",
    "\n",
    "$$ \\big(g(x+\\Delta x) + g(x)\\big)\\big(h(x+\\Delta x) - h(x)\\big) + h(x)\\cdot g(x+\\Delta x) - g(x)\\cdot h(x+\\Delta x)$$"
   ]
  },
  {
   "cell_type": "markdown",
   "id": "e9803d72-9f2c-47e3-a90f-d0169f77bb1e",
   "metadata": {},
   "source": [
    "Furthermore,  \n",
    "\n",
    "$$ f'(x) = h'(x)\\lim_{\\Delta x \\to 0}\\big(g(x+\\Delta x) + g(x)\\big) + \\lim_{\\Delta x\\to 0}\\frac{h(x)\\cdot g(x+\\Delta x) - g(x)\\cdot h(x + \\Delta x)}{\\Delta x}$$"
   ]
  },
  {
   "cell_type": "markdown",
   "id": "1a74681c-8f78-4f9a-8b4a-7b9e170b43b8",
   "metadata": {},
   "source": [
    "$$ = h'(x)\\cdot g(x) + h'(x)\\lim_{\\Delta x\\to 0} g(x+\\Delta x) + \\lim_{\\Delta \\to 0}\\frac{h(x)\\cdot g(x+\\Delta x) - g(x)\\cdot h(x+\\Delta x)}{\\Delta x}$$"
   ]
  },
  {
   "cell_type": "markdown",
   "id": "8b4b657e-1607-4df4-97bf-2c87a5d225c2",
   "metadata": {},
   "source": [
    "$$ = h'(x)\\cdot g(x) + \\lim_{\\Delta x \\to 0}\\frac{g(x+\\Delta x)\\big(h(x+\\Delta x) - h(x)\\big) + h(x)\\cdot g(x+\\Delta x) - g(x)\\cdot h(x+\\Delta x)}{\\Delta x}$$"
   ]
  },
  {
   "cell_type": "markdown",
   "id": "5ada6c71-6dae-4c3b-914a-5d57f9b9bc3b",
   "metadata": {},
   "source": [
    "$$ = h'(x)\\cdot g(x) + \\lim_{\\Delta x \\to 0}\\frac{g(x+\\Delta x)h(x + \\Delta x) - g(x)h(x+\\Delta x)}{\\Delta x}$$"
   ]
  },
  {
   "cell_type": "markdown",
   "id": "3fed0547-366b-4ed8-82ad-591c34a499a2",
   "metadata": {},
   "source": [
    "$$ = h'(x)\\cdot g(x) + g'(x)\\cdot\\lim_{\\Delta x \\to 0} h(x+\\Delta x)$$"
   ]
  },
  {
   "cell_type": "markdown",
   "id": "8cc31a96-8c57-485c-b312-cb91597f57d3",
   "metadata": {},
   "source": [
    " $$ = g'(x)\\cdot h(x) + h'(x)\\cdot g(x)$$ "
   ]
  },
  {
   "cell_type": "markdown",
   "id": "3299b170-ab09-4c76-89c3-4a3036ca881f",
   "metadata": {},
   "source": [
    "Q.E.D.  Note that the last equality in the above equation assumes that the domain of $f(x)$ is continuous."
   ]
  },
  {
   "cell_type": "markdown",
   "id": "83beaa76-bcfc-4204-a8f5-0c51c801d458",
   "metadata": {},
   "source": [
    "## Examples\n",
    "\n",
    "Let $f(x):=x$.  \n",
    "\n",
    "$$ f'(x) = \\frac{x+\\Delta x - x}{\\Delta x} = 1$$"
   ]
  },
  {
   "cell_type": "markdown",
   "id": "7c537ef4-a9e7-4ac2-997f-0ed0a96ca50f",
   "metadata": {},
   "source": [
    "Let $f(x):=x^2$.  \n",
    "\n",
    "$$ f'(x) = \\lim_{\\Delta x \\to 0}\\frac{x^2 + 2x\\Delta x + (\\Delta x)^2 - x^2}{\\Delta x}$$"
   ]
  },
  {
   "cell_type": "markdown",
   "id": "9118d6ab-d8ad-41f2-bbd2-1bc588288cec",
   "metadata": {},
   "source": [
    "$$ = \\lim_{\\Delta x\\to 0}(2x + \\Delta x)$$"
   ]
  },
  {
   "cell_type": "markdown",
   "id": "d32c3c4e-24fd-450b-8ffb-125ddd5e06d9",
   "metadata": {},
   "source": [
    "Assuming the domain of $f(x)$ is continuous, $f'(x) = 2x$.  Assuming the epsilon of the domain of $f(x)$ is equal to one, which would be the case if said domain were the set of integers, $f'(x) = 2x + 1$.  \n",
    "\n",
    "Note that the epsilon $\\epsilon$ of a domain or set is the difference between two adjacent elements in that set once ordered under magnitude.  In the case of $\\mathbb{Z}$, the epsilon is equal to one.  For verification, the difference between two and one of it's adjacent elements, three, is equal to one.  Moreover, the epsilon of a discrete set is finite, while the epsilon of a continuous set is infinitismal."
   ]
  },
  {
   "cell_type": "markdown",
   "id": "fd5a5162-6e93-42f1-befd-c74f2ceef865",
   "metadata": {},
   "source": [
    "### Example 3 \n",
    "\n",
    "For a more generic example, let $f(x):= x^m$, where $m\\in\\mathbb{N}$.  \n",
    "\n",
    "$$ f'(x) = \\lim_{\\Delta x\\to 0}\\frac{(x+\\Delta x)^m - x^m}{\\Delta x}$$"
   ]
  },
  {
   "cell_type": "markdown",
   "id": "f624069c-dfa8-43dd-b0c8-798dbee15518",
   "metadata": {},
   "source": [
    "Via [Binomial Theorem](https://en.wikipedia.org/wiki/Binomial_theorem),  \n",
    "\n",
    "$$ (x+\\Delta x)^m = \\sum_{k=0}^m \\binom{m}{k}x^{m-k}(\\Delta x)^k$$"
   ]
  },
  {
   "cell_type": "markdown",
   "id": "095261d2-467c-4abe-8851-613630e5d97a",
   "metadata": {},
   "source": [
    "where $\\binom{m}{k}$ is a binomial coefficient given by:  \n",
    "\n",
    "$$ \\binom{m}{k} = \\frac{m!}{k!(m-k)!}$$"
   ]
  },
  {
   "cell_type": "markdown",
   "id": "6e3c4838-bf89-4124-9885-b68e6a3bf2be",
   "metadata": {},
   "source": [
    "The numerator of the fraction whose limit we are taking is given by:  \n",
    "\n",
    "$$ (x + \\Delta x)^m - x^m = \\sum_{k=1}^m \\binom{m}{k}x^{m-k}(\\Delta x)^k$$"
   ]
  },
  {
   "cell_type": "markdown",
   "id": "4254de93-f266-4e8c-8693-6005ffef08c1",
   "metadata": {},
   "source": [
    "The right hand side of the above equation divided by $\\Delta x$ is equal to:  \n",
    "\n",
    "$$ \\sum_{k=1}^m \\binom{m}{k}x^{m-k}(\\Delta x)^{k-1}$$"
   ]
  },
  {
   "cell_type": "markdown",
   "id": "e7858059-1e52-4da9-b056-9791e18d4ff7",
   "metadata": {},
   "source": [
    "Thus,  \n",
    "\n",
    "$$ f'(x) = \\lim_{\\Delta x\\to 0}\\sum_{k=1}^m \\binom{m}{k}x^{m-k}(\\Delta x)^{k-1}$$"
   ]
  },
  {
   "cell_type": "markdown",
   "id": "14de421b-e77b-4f77-813f-c367fd776980",
   "metadata": {},
   "source": [
    "Assuming the domain of $f(x)$ is continuous,  \n",
    "\n",
    "$$ f'(x) = \\binom{m}{1} x^{m-1} = mx^{m-1}$$"
   ]
  },
  {
   "cell_type": "markdown",
   "id": "4146ea7a-6153-4b1b-a2c3-c8d005153475",
   "metadata": {},
   "source": [
    "### Example 4\n",
    "\n",
    "Let $y = f(x):= x^{-1m}$, where $m\\in\\mathbb{N}$.  If  \n",
    "\n",
    "$$ u := u(x) = \\frac{1}{x} $$"
   ]
  },
  {
   "cell_type": "markdown",
   "id": "53339171-b138-43b5-9d49-5b8b256e90da",
   "metadata": {},
   "source": [
    "then  \n",
    "\n",
    "$$ y = u^m $$"
   ]
  },
  {
   "cell_type": "markdown",
   "id": "1abbe27e-d883-4bb5-b560-3bb9a3d89403",
   "metadata": {},
   "source": [
    "Via the chain rule,  \n",
    "\n",
    "$$ \\frac{\\mathrm{d}y}{\\mathrm{d}x} = \\frac{\\mathrm{d}y}{\\mathrm{d}u}\\frac{\\mathrm{d}u}{\\mathrm{d}x} = mu^{m-1}\\,\\frac{\\mathrm{d}u}{\\mathrm{d}x}$$"
   ]
  },
  {
   "cell_type": "markdown",
   "id": "707eaeb2-b11c-4245-88ed-f06f893cdb31",
   "metadata": {},
   "source": [
    "$$ u'(x) = \\lim_{\\Delta x\\to 0} \\frac{\\frac{1}{x+\\Delta x} - \\frac{1}{x}}{\\Delta x}$$"
   ]
  },
  {
   "cell_type": "markdown",
   "id": "2e1afead-56fc-4bfb-87db-dcc2e635492a",
   "metadata": {},
   "source": [
    "The numerator is equal to:  \n",
    "\n",
    "$$ \\frac{x - x - \\Delta x}{x(x+\\Delta x)} = -\\frac{\\Delta x}{x(x+\\Delta x)}$$"
   ]
  },
  {
   "cell_type": "markdown",
   "id": "2a79b13c-a313-4245-890c-78abbf3f755e",
   "metadata": {},
   "source": [
    "Thus,  \n",
    "\n",
    "$$ u'(x) = -\\lim_{\\Delta x\\to 0}\\frac{1}{x(x+\\Delta x)}$$"
   ]
  },
  {
   "cell_type": "markdown",
   "id": "1eec02d4-499e-4f5b-9371-4e247056c651",
   "metadata": {},
   "source": [
    "Assuming a continuous domain,  \n",
    "\n",
    "$$ u'(x) = -\\frac{1}{x^2}$$"
   ]
  },
  {
   "cell_type": "markdown",
   "id": "f84c61e6-13ec-47af-ac89-1a262bcf615f",
   "metadata": {},
   "source": [
    "Finally,  \n",
    "\n",
    "$$ f'(x) = -\\frac{m}{x^{m-1}}\\frac{1}{x^2} = -\\frac{m}{x^{m+1}}$$"
   ]
  },
  {
   "cell_type": "markdown",
   "id": "a45330d7-5a2d-4f8b-a66d-7eccdbe35369",
   "metadata": {},
   "source": [
    "Now, let $n=-m$.  Of course, $n$ is a negative integer.  The function definition along with it's derivative can be rewritten as:  \n",
    "\n",
    "$$ f(x) = x^n \\quad\\quad\\text{and}\\quad\\quad f'(x) = \\frac{n}{x^{1-n}} = nx^{n-1}$$"
   ]
  },
  {
   "cell_type": "markdown",
   "id": "8e0a504b-ddf7-4784-bf54-4d9795835b8d",
   "metadata": {},
   "source": [
    "### Example 5  \n",
    "\n",
    "Let $f(x):=x^n$, where $n\\in\\mathbb{Z}$.  Via the fact that the derivative of one is zero, that $x^0=1$, and examples [4](#Example-4) and [5](#Example-5),  \n",
    "\n",
    "$$ f'(x) = nx^{n-1}$$"
   ]
  },
  {
   "cell_type": "markdown",
   "id": "c8da1bb7-803b-4166-94e3-fe1f120a7594",
   "metadata": {},
   "source": [
    "Note that the above assumes a continuous domain."
   ]
  },
  {
   "cell_type": "markdown",
   "id": "344d0213-84b4-4504-ba56-ae4fdc7eac38",
   "metadata": {},
   "source": [
    "### Example 6\n",
    "\n",
    "Let $y :=f(x) = \\sqrt{x}$.  Squaring both sides of the defining equation gives:  \n",
    "\n",
    "$$ y^2 = x$$"
   ]
  },
  {
   "cell_type": "markdown",
   "id": "bb82c36f-afb2-4a31-8da9-1b5d9b64bcdc",
   "metadata": {},
   "source": [
    "Differentiating throughout the above equation with respect to $x$ gives:  \n",
    "\n",
    "$$ 2y\\,\\frac{\\mathrm{d}y}{\\mathrm{d}x} = 1 \\quad\\therefore\\quad f'(x) = \\frac{1}{2y} = \\frac{1}{2\\sqrt{x}}$$"
   ]
  },
  {
   "cell_type": "markdown",
   "id": "7ede5a6e-4170-49e1-ba03-8ee6e02abecc",
   "metadata": {},
   "source": [
    "### Example 7\n",
    "\n",
    "For a more generic example of a radical, let $y:=f(x) = \\sqrt[a]{x}$, where $a\\in\\mathbb{N}\\setminus\\{1\\}$.  Raising both sides of the defining equation to the power of $a$ gives:  \n",
    "\n",
    "$$ y^a = x \\quad\\therefore\\quad ay^{a-1}f'(x) = 1 \\quad\\therefore$$"
   ]
  },
  {
   "cell_type": "markdown",
   "id": "d9f801a4-f72a-463b-86be-3c7a0ef06b17",
   "metadata": {},
   "source": [
    "$$ f'(x) = \\frac{1}{ay^{a-1}} = \\frac{\\sqrt[a]{x}}{ax}$$"
   ]
  },
  {
   "cell_type": "markdown",
   "id": "386fc114-c0b1-4e62-936f-59253e566d74",
   "metadata": {},
   "source": [
    "Now, let $q:=a^{-1}$.  The function definition and the derivative can be rewritten.  \n",
    "\n",
    "$$ f(x) = x^q \\quad\\quad\\text{and}\\quad\\quad f'(x) = qx^{q-1}$$"
   ]
  },
  {
   "cell_type": "markdown",
   "id": "da2f9f9f-cb62-493a-9454-0d9376ae2731",
   "metadata": {},
   "source": [
    "### Example 8  \n",
    "\n",
    "Let $y:=f(x) = x^p$, where $\\displaystyle p = \\frac{m}{a}$, $m\\in\\mathbb{Z}$, $a\\in\\mathbb{N}\\setminus\\{1\\}$, and $a$ does not divide $m$.  It follows that $p\\in\\mathbb{Q}\\setminus\\mathbb{Z}$.  Also, let $u:=u(x) = \\sqrt[a]{x}$.  \n",
    "\n",
    "$$ y = \\sqrt[a]{x^m} = u^m $$"
   ]
  },
  {
   "cell_type": "markdown",
   "id": "24c8c9d2-4ff9-4487-aa38-65c7ab368310",
   "metadata": {},
   "source": [
    "Via the chain rule,  \n",
    "\n",
    "$$ f'(x) = mu^{m-1}u'(x) = qmu^{m-1}x^{q-1} \\quad\\quad\\text{where }\\,q=\\frac{1}{a}$$"
   ]
  },
  {
   "cell_type": "markdown",
   "id": "f3ca96b5-752f-4888-8b96-26d2e0360d19",
   "metadata": {},
   "source": [
    "$$ f'(x) = qmx^{p-q}x^{q-1} = px^{p-1}$$"
   ]
  },
  {
   "cell_type": "markdown",
   "id": "d31e9c55-1dfc-4eb4-8f45-14de5a1e51cc",
   "metadata": {},
   "source": [
    "### Example 9  \n",
    "\n",
    "Let $y:=f(x) = x^n$, where $n\\in\\mathbb{Q}$.  Via examples [8](#Example-8) and [5](#Example-5),  \n",
    "\n",
    "$$ f'(x) = nx^{n-1}$$"
   ]
  },
  {
   "cell_type": "markdown",
   "id": "562e2fc9-eb1e-4e8a-82af-42e8f72631f7",
   "metadata": {},
   "source": [
    "### Example 10\n",
    "\n",
    "Suppose there exists a unit circle $C$ centered at origin.  $C$ is given by:  \n",
    "\n",
    "$$ \\mathbf{r} := \\mathbf{r}(\\theta) = \\langle \\cos\\theta,\\sin\\theta\\rangle \\quad\\quad\\text{for }\\, 0 \\le \\theta < 2\\pi$$"
   ]
  },
  {
   "cell_type": "markdown",
   "id": "ceda5b2c-aac2-4d70-93b4-5f06309b378c",
   "metadata": {},
   "source": [
    "The tangent line of $C$ at the head of $\\mathbf{r}$ is always perpendicular to $\\mathbf{r}$ and parallel to $\\mathrm{d}\\mathbf{r}$.  Therefore $\\mathbf{r}\\perp \\mathrm{d}\\mathbf{r}$.  Moreover,  \n",
    "\n",
    "$$ \\mathrm{d}\\mathbf{r} = |\\mathrm{d}\\mathbf{r}|\\langle -\\sin\\theta , \\cos\\theta\\rangle$$"
   ]
  },
  {
   "cell_type": "markdown",
   "id": "1b87983a-25a6-4481-a43f-b977270d7b3c",
   "metadata": {},
   "source": [
    "$$ \\mathbf{r} \\perp \\mathrm{d}\\mathbf{r} \\quad\\therefore\\quad \\mathbf{r}\\cdot\\mathrm{d}\\mathbf{r} = 0 \\quad\\therefore$$"
   ]
  },
  {
   "cell_type": "markdown",
   "id": "c506e610-46db-4694-a64e-e39fd609a267",
   "metadata": {},
   "source": [
    "$$ -\\cos\\theta\\sin\\theta + \\sin\\theta\\cos\\theta = 0$$"
   ]
  },
  {
   "cell_type": "markdown",
   "id": "9197371e-9601-407c-adc3-2efa6bd82647",
   "metadata": {},
   "source": [
    "The arclength of the arc tracked by $\\mathbf{r}$ as a function of $\\theta$ is:  \n",
    "\n",
    "$$ s:=s(\\theta) = \\theta \\quad\\therefore\\quad \\mathrm{d}s = |\\mathrm{d}\\mathbf{r}| = \\mathrm{d}\\theta$$"
   ]
  },
  {
   "cell_type": "markdown",
   "id": "64dd31b1-3ab2-4e03-a0dc-af52dfc62d72",
   "metadata": {},
   "source": [
    "Thus,  \n",
    "\n",
    "$$ \\frac{\\mathrm{d}\\mathbf{r}}{\\mathrm{d}\\theta} = \\langle -\\sin\\theta,\\cos\\theta\\rangle$$"
   ]
  },
  {
   "cell_type": "markdown",
   "id": "e7b6dd4f-5312-418d-97b1-abbccd0c158a",
   "metadata": {},
   "source": [
    "### Example 11\n",
    "\n",
    "Let $y:=f(x) = b^x$, where $b$ is a positive real number.  \n",
    "\n",
    "$$ f'(x) = \\lim_{\\Delta x \\to 0}\\frac{b^xb^{\\Delta x} - b^x}{\\Delta x}$$"
   ]
  },
  {
   "cell_type": "markdown",
   "id": "777fba01-9e54-4cb8-917b-6207c106c0a7",
   "metadata": {},
   "source": [
    "\\begin{equation}\\tag{11.1}\n",
    "    = b^x\\cdot\\lim_{\\Delta x\\to 0}\\frac{b^{\\Delta x} - 1}{\\Delta x}\n",
    "\\end{equation}"
   ]
  },
  {
   "cell_type": "markdown",
   "id": "67935d04-3eae-4928-acd1-e069be03fe77",
   "metadata": {},
   "source": [
    "Now, let  \n",
    "\n",
    "$$ w := g(\\Delta x, b) = \\frac{b^{\\Delta x} - 1}{\\Delta x}$$"
   ]
  },
  {
   "cell_type": "markdown",
   "id": "bfcf2feb-f077-4a43-bceb-963a997632d8",
   "metadata": {},
   "source": [
    "Below we will plot the graph of $g(\\Delta x, 2)$ for $0 < \\Delta x \\le 2$."
   ]
  },
  {
   "cell_type": "code",
   "execution_count": 1,
   "id": "ca749489-d219-49df-a5cf-0efc5cfac25c",
   "metadata": {},
   "outputs": [],
   "source": [
    "import numpy as np\n",
    "import matplotlib.pyplot as plt"
   ]
  },
  {
   "cell_type": "code",
   "execution_count": 11,
   "id": "349f369c-0121-4da1-96c0-182fb1604b68",
   "metadata": {
    "jupyter": {
     "source_hidden": true
    }
   },
   "outputs": [
    {
     "data": {
      "text/plain": [
       "[<matplotlib.lines.Line2D at 0x76641fff71f0>]"
      ]
     },
     "execution_count": 11,
     "metadata": {},
     "output_type": "execute_result"
    },
    {
     "data": {
      "image/png": "[encoded data removed]",
      "text/plain": [
       "<Figure size 740x300 with 1 Axes>"
      ]
     },
     "metadata": {},
     "output_type": "display_data"
    }
   ],
   "source": [
    "b = 2\n",
    "x = np.linspace(1e-5,2,num=200)\n",
    "\n",
    "g = (b**x - 1)/x\n",
    "\n",
    "fig, ax = plt.subplots(figsize=(7.4,3))\n",
    "ax.set_title(r'$g(\\Delta x,2)$',size=13)\n",
    "ax.set_xlabel(r'$\\Delta x$',size=11)\n",
    "ax.set_ylabel(r'$w$',size=11)\n",
    "ax.grid()\n",
    "\n",
    "ax.plot(x,g)"
   ]
  },
  {
   "cell_type": "markdown",
   "id": "5cf9cdc8-72ab-4523-b7fa-e3da64c2abdc",
   "metadata": {},
   "source": [
    "Now, we will plot the graph of $g(10^{-5}, b)$ for all $b\\in [1,3]$.  Note that the epsilon of this range is of course finite."
   ]
  },
  {
   "cell_type": "code",
   "execution_count": 12,
   "id": "37838f04-168c-4078-b73a-7b3707f0cbe9",
   "metadata": {},
   "outputs": [
    {
     "data": {
      "text/plain": [
       "np.float64(1.0986122886681098)"
      ]
     },
     "execution_count": 12,
     "metadata": {},
     "output_type": "execute_result"
    }
   ],
   "source": [
    "np.log(3)"
   ]
  },
  {
   "cell_type": "code",
   "execution_count": 15,
   "id": "a5528b9c-6ff1-4362-aa30-c47693513ab7",
   "metadata": {
    "jupyter": {
     "source_hidden": true
    }
   },
   "outputs": [
    {
     "data": {
      "text/plain": [
       "[<matplotlib.lines.Line2D at 0x76641fee25f0>]"
      ]
     },
     "execution_count": 15,
     "metadata": {},
     "output_type": "execute_result"
    },
    {
     "data": {
      "image/png": "[encoded data removed]",
      "text/plain": [
       "<Figure size 600x300 with 1 Axes>"
      ]
     },
     "metadata": {},
     "output_type": "display_data"
    }
   ],
   "source": [
    "b = np.linspace(1,3,num=200)\n",
    "x = 1e-5\n",
    "g = (b**x-1)/x\n",
    "\n",
    "fig, ax = plt.subplots(figsize=(6,3))\n",
    "ax.set_title(r'$g(10^{-5},b)$',size=13)\n",
    "ax.set_xlabel(r'$b$',size=11)\n",
    "ax.set_ylabel(r'$w$',size=11)\n",
    "ax.grid()\n",
    "\n",
    "ax.plot(b,g)"
   ]
  },
  {
   "cell_type": "markdown",
   "id": "ca45c71b-fad0-4246-b6d9-5cb3f269a30c",
   "metadata": {},
   "source": [
    "From the above, it is clear that:  \n",
    "\n",
    "$$ \\exists e \\in \\mathbb{R}_{>0} \\;:\\; \\lim_{\\Delta x\\to 0}\\frac{e^{\\Delta x}-1}{\\Delta x } = 1$$"
   ]
  },
  {
   "cell_type": "markdown",
   "id": "8f815bc2-eb07-4237-beb1-c498f08dd753",
   "metadata": {},
   "source": [
    "The natural logarithm, denoted as $\\log$, satisfies:  \n",
    "\n",
    "$$ e^{\\log x} = x \\quad\\quad\\text{where }\\, x\\in\\mathbb{R}_{> 0}$$"
   ]
  },
  {
   "cell_type": "markdown",
   "id": "fc07002f-2cd3-4672-b185-743ac59534ae",
   "metadata": {},
   "source": [
    "Thus,  \n",
    "\n",
    "$$ y = f(x) = b^x = \\big(e^{\\log b}\\big)^x = e^{x\\log b}$$"
   ]
  },
  {
   "cell_type": "markdown",
   "id": "77b6c48d-b039-4766-8ff0-68012a3659e6",
   "metadata": {},
   "source": [
    "\\begin{equation}\\tag{11.2}\n",
    "    f'(x) = b^x\\log b\n",
    "\\end{equation}"
   ]
  },
  {
   "cell_type": "markdown",
   "id": "3bb428b0-d6a6-4b86-aa1c-4876304eaded",
   "metadata": {},
   "source": [
    "Via equations (11.1) and (11.2),  \n",
    "\n",
    "$$ \\log b = \\lim_{\\Delta x\\to 0}\\frac{b^{\\Delta x} - 1}{\\Delta x}$$"
   ]
  },
  {
   "cell_type": "markdown",
   "id": "bfe1148f-c314-467c-9eee-69c7b6f09c23",
   "metadata": {},
   "source": [
    "### Example 12\n",
    "\n",
    "Let $y:=f(x) = \\log x$.  Via the above equation,  \n",
    "\n",
    "$$ f'(x) = \\lim_{\\Delta x \\to 0}\\frac{(x+\\Delta x)^{\\Delta x} - x^{\\Delta x}}{(\\Delta x)^2}$$"
   ]
  },
  {
   "cell_type": "markdown",
   "id": "68f9bd8a-37d0-47a2-90f3-c74702920c8e",
   "metadata": {},
   "source": [
    "$$ e^y = x \\quad\\therefore\\quad e^y \\,\\frac{\\mathrm{d}y}{\\mathrm{d}x} = 1 \\quad\\therefore$$"
   ]
  },
  {
   "cell_type": "markdown",
   "id": "f9156810-ac3f-43ec-9c5b-bf9c17b567f3",
   "metadata": {},
   "source": [
    "$$ f'(x) = \\frac{1}{e^y} = \\frac{1}{x}$$"
   ]
  },
  {
   "cell_type": "markdown",
   "id": "baae50c2-d1b9-4346-bc0e-d15182eda95a",
   "metadata": {},
   "source": []
  }
 ],
 "metadata": {
  "kernelspec": {
   "display_name": "Python 3 (ipykernel)",
   "language": "python",
   "name": "python3"
  },
  "language_info": {
   "codemirror_mode": {
    "name": "ipython",
    "version": 3
   },
   "file_extension": ".py",
   "mimetype": "text/x-python",
   "name": "python",
   "nbconvert_exporter": "python",
   "pygments_lexer": "ipython3",
   "version": "3.10.12"
  }
 },
 "nbformat": 4,
 "nbformat_minor": 5
}

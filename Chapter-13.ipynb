{
 "cells": [
  {
   "cell_type": "markdown",
   "id": "a11af244-8195-4a8e-aa02-7cb6f3ef3043",
   "metadata": {},
   "source": [
    "# Chapter 13\n",
    "### Infinite Series of Constants \n",
    "\n",
    "An *infinite series*, or simply *series*, is an expression of the form:  \n",
    "\n",
    "\\begin{equation}\\tag{1}\n",
    "    a_1 + a_2 + a_3 + \\dotsb + a_i + \\dotsb \n",
    "\\end{equation}"
   ]
  },
  {
   "cell_type": "markdown",
   "id": "2ccd2910-8948-4c66-8f1b-df125277543c",
   "metadata": {},
   "source": [
    "We will often times use the sigma notation to express a the series -- or any, for that matter.  \n",
    "\n",
    "$$ \\sum_{i=1}^\\infty a_i$$"
   ]
  },
  {
   "cell_type": "markdown",
   "id": "35e0c4db-72e6-4021-9904-1bf331ef5c77",
   "metadata": {},
   "source": [
    "A decimal representation of a number with an infinite number of digits trailing (to the right of) the decimal point is defined as an infinite series.  \n",
    "\n",
    "\\begin{equation}\\tag{2}\n",
    "    0.a_1a_2\\dotso a_i \\dotso = \\sum_{i=1}^\\infty a_i \\cdot 10^{-i} \\quad\\quad\\text{where } \\;a_i\\in\\mathbb{Z}\\;\\land\\; 0\\le a_i \\le 9 \\;\\forall i \\in\\mathbb{N} \n",
    "\\end{equation}"
   ]
  },
  {
   "cell_type": "markdown",
   "id": "d240c24f-8adb-4088-8f17-937c78c4c761",
   "metadata": {},
   "source": [
    "Of course,  \n",
    "\n",
    "\\begin{equation}\\tag{3}\n",
    "    \\frac{1}{3} = 0.333\\dotso = \\sum_{i=1}^\\infty 3\\cdot10^{-i}\n",
    "\\end{equation}"
   ]
  },
  {
   "cell_type": "code",
   "execution_count": 2,
   "id": "d00423b1-bf08-473c-b3f4-7ae4afae7c06",
   "metadata": {},
   "outputs": [],
   "source": [
    "import numpy as np\n",
    "import matplotlib.pyplot as plt"
   ]
  },
  {
   "cell_type": "code",
   "execution_count": 3,
   "id": "e5586fa3-1359-4fca-a668-9d309ab84492",
   "metadata": {},
   "outputs": [],
   "source": [
    "def S_3(n):\n",
    "    return sum(3*10**(-i) for i in range(1,n))"
   ]
  },
  {
   "cell_type": "code",
   "execution_count": 4,
   "id": "e3bbca7c-0bfa-400a-879e-8a91abc3a3cd",
   "metadata": {},
   "outputs": [
    {
     "data": {
      "text/plain": [
       "(0, 0.30000000000000004, 0.33000000000000007)"
      ]
     },
     "execution_count": 4,
     "metadata": {},
     "output_type": "execute_result"
    }
   ],
   "source": [
    "(S_3(1), S_3(2), S_3(3))"
   ]
  },
  {
   "cell_type": "code",
   "execution_count": 7,
   "id": "95e3913f-07f7-4133-a233-65dd846381d8",
   "metadata": {},
   "outputs": [
    {
     "data": {
      "text/plain": [
       "{(0, 1),\n",
       " (0.30000000000000004, 2),\n",
       " (0.33000000000000007, 3),\n",
       " (0.3330000000000001, 4),\n",
       " (0.3333000000000001, 5)}"
      ]
     },
     "execution_count": 7,
     "metadata": {},
     "output_type": "execute_result"
    }
   ],
   "source": [
    "n = range(1,6)\n",
    "S = map(S_3,n)\n",
    "set(zip(S,n))"
   ]
  }
 ],
 "metadata": {
  "kernelspec": {
   "display_name": "Python 3 (ipykernel)",
   "language": "python",
   "name": "python3"
  },
  "language_info": {
   "codemirror_mode": {
    "name": "ipython",
    "version": 3
   },
   "file_extension": ".py",
   "mimetype": "text/x-python",
   "name": "python",
   "nbconvert_exporter": "python",
   "pygments_lexer": "ipython3",
   "version": "3.10.12"
  }
 },
 "nbformat": 4,
 "nbformat_minor": 5
}
